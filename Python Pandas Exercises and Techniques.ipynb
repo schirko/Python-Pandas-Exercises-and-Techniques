{
 "cells": [
  {
   "cell_type": "markdown",
   "id": "7913f7ae",
   "metadata": {},
   "source": [
    "<h1><center>Python Pandas Exercises and Techniques</h1></center>\n",
    "\n",
    "<b>Purpose:</b> This living document is meant to service as a learning tool."
   ]
  },
  {
   "cell_type": "markdown",
   "id": "3d71d7c4",
   "metadata": {},
   "source": [
    "## Loading and viewing a dataset\n",
    "First we use pd.read() on the dataset we wish to work with. In this case the dataset is a csv file so we use pd.read_csv().\n",
    "\n",
    "Next we use head() and tail() to get a quick glimpse of what we're working with and to verify that we did indeed successfully read the dataset. "
   ]
  },
  {
   "cell_type": "code",
   "execution_count": 1,
   "id": "ce873d15",
   "metadata": {},
   "outputs": [
    {
     "name": "stdout",
     "output_type": "stream",
     "text": [
      "head(): \n",
      "         Country  Year      Status  Life_Expectancy  Adult_Mortality  Infant_Deaths  Alcohol  Percentage_Expenditure  Hepatitis B  Measles   ...  Polio  Total_Expenditure  Diphtheria    HIV/AIDS         GDP  Population  Thinness_1-19_Years  Thinness_5-9_Years  Income_Composition_Of_Resources  Schooling\n",
      "0         Haiti  2010  Developing             36.3              682             23     5.76               36.292918          NaN         0  ...   66.0               8.90         66.0        1.9  662.279518   9999617.0                  4.0                 4.0                            0.470        8.6\n",
      "1  Sierra Leone  2000  Developing             39.0              533             29     3.97               20.395683          NaN      3575  ...   46.0              13.63         44.0        1.2  139.314773   4564297.0                  1.3                 1.4                            0.292        6.7\n",
      "2  Sierra Leone  2001  Developing             41.0              519             30     4.21               33.346915          NaN       649  ...   38.0              11.83         38.0        1.5  227.779471   4739147.0                  1.1                 1.2                            0.302        7.0\n",
      "\n",
      "[3 rows x 22 columns]\n",
      "df_le.tail(5): \n",
      "        Country  Year     Status  Life_Expectancy  Adult_Mortality  Infant_Deaths  Alcohol  Percentage_Expenditure  Hepatitis B  Measles   ...  Polio  Total_Expenditure  Diphtheria    HIV/AIDS          GDP  Population  Thinness_1-19_Years  Thinness_5-9_Years  Income_Composition_Of_Resources  Schooling\n",
      "2925  Portugal  2014  Developed             89.0               78              0     9.88              271.254553         98.0         0  ...   98.0               9.50         98.0        0.1   2277.53613     14162.0                  0.7                 0.5                            0.837       16.8\n",
      "2926     Spain  2007  Developed             89.0               72              2    11.05              510.932701         96.0       267  ...   96.0               8.36         96.0        0.1   3279.41400   4522683.0                  0.6                 0.5                            0.849       16.0\n",
      "2927    Sweden  2007  Developed             89.0               63              0     6.90             7593.391622          NaN         1  ...   98.0               8.92         98.0        0.1  53324.37937    914892.0                  1.3                 1.3                            0.895       15.8\n",
      "\n",
      "[3 rows x 22 columns]\n"
     ]
    }
   ],
   "source": [
    "import pandas as pd\n",
    "import numpy as np\n",
    "\n",
    "# Load data into pandas dataframe\n",
    "pd.set_option('display.width', 480)\n",
    "pd.set_option(\"display.max_columns\", 20)\n",
    "df_le = pd.read_csv('Life_Expectancy_WHO_Data.csv')\n",
    "\n",
    "# Print the first three records using head()\n",
    "print(\"head(): \\n\", df_le.head(3))\n",
    "\n",
    "# Print the last three records using tail()\n",
    "print(\"df_le.tail(5): \\n\", df_le.tail(3))"
   ]
  },
  {
   "cell_type": "markdown",
   "id": "e048fc0d",
   "metadata": {},
   "source": [
    "If the first row in the dataset contains a lebl you wish to leave out, add \"index_col = 0\" to the read - \"df_le = pd.read_csv('Life_Expectancy_WHO_Data.csv' index_col = 0\")\n",
    "\n",
    "Next we might want to view the shape and data types this dataset contains. \"\\n\" has been used to add spaces between each method to make it easier to read."
   ]
  },
  {
   "cell_type": "code",
   "execution_count": 2,
   "id": "c01fceb7",
   "metadata": {},
   "outputs": [
    {
     "name": "stdout",
     "output_type": "stream",
     "text": [
      "['Life_Expectancy', 'Adult_Mortality', 'Infant_Deaths', 'Alcohol', 'Percentage_Expenditure', 'Hepatitis B', 'Measles ', ' BMI ', 'Under-Five_Deaths ', 'Polio', 'Total_Expenditure', 'Diphtheria ', ' HIV/AIDS', 'GDP', 'Population', 'Thinness_1-19_Years', 'Thinness_5-9_Years', 'Income_Composition_Of_Resources', 'Schooling']\n",
      "\n",
      "\n",
      "shape(): \n",
      " (2928, 22)\n",
      "\n",
      "\n",
      "dtypes(): \n",
      " Country                             object\n",
      "Year                                 int64\n",
      "Status                              object\n",
      "Life_Expectancy                    float64\n",
      "Adult_Mortality                      int64\n",
      "Infant_Deaths                        int64\n",
      "Alcohol                            float64\n",
      "Percentage_Expenditure             float64\n",
      "Hepatitis B                        float64\n",
      "Measles                              int64\n",
      " BMI                               float64\n",
      "Under-Five_Deaths                    int64\n",
      "Polio                              float64\n",
      "Total_Expenditure                  float64\n",
      "Diphtheria                         float64\n",
      " HIV/AIDS                          float64\n",
      "GDP                                float64\n",
      "Population                         float64\n",
      "Thinness_1-19_Years                float64\n",
      "Thinness_5-9_Years                 float64\n",
      "Income_Composition_Of_Resources    float64\n",
      "Schooling                          float64\n",
      "dtype: object\n",
      "\n",
      "\n"
     ]
    }
   ],
   "source": [
    "# List of numerical features\n",
    "feature_vars = list(df_le.columns)[3:]  \n",
    "\n",
    "# Print the column headings/features of the dataframe\n",
    "print(feature_vars) \n",
    "print(\"\\n\")\n",
    "\n",
    "# View the dataframe\n",
    "print(\"shape(): \\n\", df_le.shape)\n",
    "print(\"\\n\")\n",
    "print(\"dtypes(): \\n\", df_le.dtypes)\n",
    "print(\"\\n\")"
   ]
  },
  {
   "cell_type": "markdown",
   "id": "a4729b6d",
   "metadata": {},
   "source": [
    "#### Replacing column headings\n",
    "As we saw from the initial quick look of the data, the string values for the column headings are fairly messy so we need to address this first. In the code below the spaces are replaced with underscores and shortened some of the text. "
   ]
  },
  {
   "cell_type": "code",
   "execution_count": 3,
   "id": "2249ddf1",
   "metadata": {},
   "outputs": [
    {
     "name": "stdout",
     "output_type": "stream",
     "text": [
      "['Life_Expectancy', 'Adult_Mortality', 'Infant_Deaths', 'Alcohol', 'Pct_Expenditure', 'Hepatitis_B', 'Measles', 'BMI', 'Under-Five_Deaths', 'Polio', 'Ttl_Expend', 'Diphtheria', 'HIV_AIDS', 'GDP', 'Population', 'Thinness_10-19_Years', 'Thinness_5-9_Years', 'Income_Comp_Of_Resources', 'Schooling']\n"
     ]
    }
   ],
   "source": [
    "global df_le, feature_vars\n",
    "orig_column_heads = list(df_le.columns)\n",
    "new_column_heads = []\n",
    "\n",
    "# Replace spaces with underscores and \"title\" capitalize text\n",
    "for col in orig_column_heads:  \n",
    "    new_column_heads.append(col.strip().title().replace('  ', ' ').replace(' ', '_'))\n",
    "df_le.columns = new_column_heads\n",
    "\n",
    "# Rename column heads to properly reflect meaning\n",
    "df_le.rename(columns={'Thinness_1-19_Years': 'Thinness_10-19_Years'}, inplace=True)\n",
    "df_le.rename(columns={'Percentage_Expenditure': 'Pct_Expenditure'}, inplace=True)\n",
    "df_le.rename(columns={'Total_Expenditure': 'Ttl_Expend'}, inplace=True)\n",
    "df_le.rename(columns={'Bmi': 'BMI'}, inplace=True)\n",
    "df_le.rename(columns={'Gdp': 'GDP'}, inplace=True)\n",
    "df_le.rename(columns={'Hiv/Aids': 'HIV_AIDS'}, inplace=True)\n",
    "df_le.rename(columns={'Income_Composition_Of_Resources': 'Income_Comp_Of_Resources'}, inplace=True)\n",
    "feature_vars = list(df_le.columns)[3:]\n",
    "\n",
    "# Print the column headings/features of the dataframe\n",
    "print(feature_vars) "
   ]
  },
  {
   "cell_type": "markdown",
   "id": "45386be5",
   "metadata": {},
   "source": [
    "The new headings look much better and will make coding this project much easier and more readable!"
   ]
  },
  {
   "cell_type": "markdown",
   "id": "588bbcdf",
   "metadata": {},
   "source": [
    "#### Dataframe from dictionary\n",
    "Creating a Pandas dataframe from a dictionary is easy. Just assign the dictionary name using pd.dataframe. In the example below we also add an index to the dataframe."
   ]
  },
  {
   "cell_type": "code",
   "execution_count": 4,
   "id": "922802aa",
   "metadata": {},
   "outputs": [
    {
     "data": {
      "text/html": [
       "<div>\n",
       "<style scoped>\n",
       "    .dataframe tbody tr th:only-of-type {\n",
       "        vertical-align: middle;\n",
       "    }\n",
       "\n",
       "    .dataframe tbody tr th {\n",
       "        vertical-align: top;\n",
       "    }\n",
       "\n",
       "    .dataframe thead th {\n",
       "        text-align: right;\n",
       "    }\n",
       "</style>\n",
       "<table border=\"1\" class=\"dataframe\">\n",
       "  <thead>\n",
       "    <tr style=\"text-align: right;\">\n",
       "      <th></th>\n",
       "      <th>country</th>\n",
       "      <th>capital</th>\n",
       "      <th>area</th>\n",
       "      <th>population</th>\n",
       "    </tr>\n",
       "  </thead>\n",
       "  <tbody>\n",
       "    <tr>\n",
       "      <th>BR</th>\n",
       "      <td>Brazil</td>\n",
       "      <td>Brasilia</td>\n",
       "      <td>516.000</td>\n",
       "      <td>200.40</td>\n",
       "    </tr>\n",
       "    <tr>\n",
       "      <th>RU</th>\n",
       "      <td>Russia</td>\n",
       "      <td>Moscow</td>\n",
       "      <td>17.100</td>\n",
       "      <td>143.50</td>\n",
       "    </tr>\n",
       "    <tr>\n",
       "      <th>IN</th>\n",
       "      <td>India</td>\n",
       "      <td>New Delhi</td>\n",
       "      <td>3.286</td>\n",
       "      <td>1252.00</td>\n",
       "    </tr>\n",
       "    <tr>\n",
       "      <th>CH</th>\n",
       "      <td>China</td>\n",
       "      <td>Beijing</td>\n",
       "      <td>9.597</td>\n",
       "      <td>1357.00</td>\n",
       "    </tr>\n",
       "    <tr>\n",
       "      <th>SA</th>\n",
       "      <td>South Africa</td>\n",
       "      <td>Pretoria</td>\n",
       "      <td>1.221</td>\n",
       "      <td>52.98</td>\n",
       "    </tr>\n",
       "  </tbody>\n",
       "</table>\n",
       "</div>"
      ],
      "text/plain": [
       "         country    capital     area  population\n",
       "BR        Brazil   Brasilia  516.000      200.40\n",
       "RU        Russia     Moscow   17.100      143.50\n",
       "IN         India  New Delhi    3.286     1252.00\n",
       "CH         China    Beijing    9.597     1357.00\n",
       "SA  South Africa   Pretoria    1.221       52.98"
      ]
     },
     "execution_count": 4,
     "metadata": {},
     "output_type": "execute_result"
    }
   ],
   "source": [
    "import pandas as pd\n",
    "\n",
    "# Create a dictionary\n",
    "country_dict = {\n",
    "    \"country\":[\"Brazil\", \"Russia\", \"India\", \"China\", \"South Africa\"],\n",
    "    \"capital\":[\"Brasilia\", \"Moscow\", \"New Delhi\", \"Beijing\", \"Pretoria\"],\n",
    "    \"area\":[516, 17.10, 3.286, 9.597, 1.221],\n",
    "    \"population\": [200.4, 143.5, 1252, 1357, 52.98] \n",
    "    }\n",
    "\n",
    "# Convert dictionary to Pandas dataframe.\n",
    "brics = pd.DataFrame(country_dict)\n",
    "\n",
    "# Add index to the dataframe\n",
    "brics.index = [\"BR\", \"RU\", \"IN\", \"CH\", \"SA\"]\n",
    "brics"
   ]
  },
  {
   "cell_type": "markdown",
   "id": "52f711c5",
   "metadata": {},
   "source": [
    "## Querying Dataframes\n"
   ]
  },
  {
   "cell_type": "markdown",
   "id": "0d14e3e0",
   "metadata": {},
   "source": [
    "### Filtering data with Pandas\n",
    "We often have the need to filter the results of a dataframe wither to make it more manageable or to simply only return the colums we need.  Pandas makes this process easy.  \n",
    "\n",
    "First we read the file, and in this case I use head() to quickly view the first four results."
   ]
  },
  {
   "cell_type": "code",
   "execution_count": 5,
   "id": "26c0b9ff",
   "metadata": {},
   "outputs": [
    {
     "data": {
      "text/html": [
       "<div>\n",
       "<style scoped>\n",
       "    .dataframe tbody tr th:only-of-type {\n",
       "        vertical-align: middle;\n",
       "    }\n",
       "\n",
       "    .dataframe tbody tr th {\n",
       "        vertical-align: top;\n",
       "    }\n",
       "\n",
       "    .dataframe thead th {\n",
       "        text-align: right;\n",
       "    }\n",
       "</style>\n",
       "<table border=\"1\" class=\"dataframe\">\n",
       "  <thead>\n",
       "    <tr style=\"text-align: right;\">\n",
       "      <th></th>\n",
       "      <th>Record ID</th>\n",
       "      <th>Aircraft: Type</th>\n",
       "      <th>Airport</th>\n",
       "      <th>Altitude bin</th>\n",
       "      <th>Aircraft: Make/Model</th>\n",
       "      <th>Wildlife: Number struck</th>\n",
       "      <th>Wildlife: Number Struck Actual</th>\n",
       "      <th>Effect: Impact to flight</th>\n",
       "      <th>FlightDate</th>\n",
       "      <th>Effect</th>\n",
       "      <th>...</th>\n",
       "      <th>Remains of wildlife sent to Smithsonian</th>\n",
       "      <th>Remarks</th>\n",
       "      <th>Wildlife: Size</th>\n",
       "      <th>Conditions: Sky</th>\n",
       "      <th>Wildlife: Species</th>\n",
       "      <th>Pilot warned of birds or wildlife?</th>\n",
       "      <th>Cost: Total $</th>\n",
       "      <th>Feet above ground</th>\n",
       "      <th>Number of people injured</th>\n",
       "      <th>Is Aircraft Large?</th>\n",
       "    </tr>\n",
       "  </thead>\n",
       "  <tbody>\n",
       "    <tr>\n",
       "      <th>0</th>\n",
       "      <td>202152</td>\n",
       "      <td>Airplane</td>\n",
       "      <td>LAGUARDIA NY</td>\n",
       "      <td>&gt; 1000 ft</td>\n",
       "      <td>B-737-400</td>\n",
       "      <td>Over 100</td>\n",
       "      <td>859</td>\n",
       "      <td>Engine Shut Down</td>\n",
       "      <td>2000-11-23</td>\n",
       "      <td>Caused damage</td>\n",
       "      <td>...</td>\n",
       "      <td>False</td>\n",
       "      <td>FLT 753. PILOT REPTD A HUNDRED BIRDS ON UNKN T...</td>\n",
       "      <td>Medium</td>\n",
       "      <td>No Cloud</td>\n",
       "      <td>Unknown bird - medium</td>\n",
       "      <td>N</td>\n",
       "      <td>30736</td>\n",
       "      <td>1500.0</td>\n",
       "      <td>0</td>\n",
       "      <td>Yes</td>\n",
       "    </tr>\n",
       "    <tr>\n",
       "      <th>1</th>\n",
       "      <td>208159</td>\n",
       "      <td>Airplane</td>\n",
       "      <td>DALLAS/FORT WORTH INTL ARPT</td>\n",
       "      <td>&lt; 1000 ft</td>\n",
       "      <td>MD-80</td>\n",
       "      <td>Over 100</td>\n",
       "      <td>424</td>\n",
       "      <td>None</td>\n",
       "      <td>2001-07-25</td>\n",
       "      <td>Caused damage</td>\n",
       "      <td>...</td>\n",
       "      <td>False</td>\n",
       "      <td>102 CARCASSES FOUND. 1 LDG LIGHT ON NOSE GEAR ...</td>\n",
       "      <td>Small</td>\n",
       "      <td>Some Cloud</td>\n",
       "      <td>Rock pigeon</td>\n",
       "      <td>Y</td>\n",
       "      <td>0</td>\n",
       "      <td>0.0</td>\n",
       "      <td>0</td>\n",
       "      <td>No</td>\n",
       "    </tr>\n",
       "    <tr>\n",
       "      <th>2</th>\n",
       "      <td>207601</td>\n",
       "      <td>Airplane</td>\n",
       "      <td>LAKEFRONT AIRPORT</td>\n",
       "      <td>&lt; 1000 ft</td>\n",
       "      <td>C-500</td>\n",
       "      <td>Over 100</td>\n",
       "      <td>261</td>\n",
       "      <td>None</td>\n",
       "      <td>2001-09-14</td>\n",
       "      <td>No damage</td>\n",
       "      <td>...</td>\n",
       "      <td>False</td>\n",
       "      <td>FLEW UNDER A VERY LARGE FLOCK OF BIRDS OVER AP...</td>\n",
       "      <td>Small</td>\n",
       "      <td>No Cloud</td>\n",
       "      <td>European starling</td>\n",
       "      <td>N</td>\n",
       "      <td>0</td>\n",
       "      <td>50.0</td>\n",
       "      <td>0</td>\n",
       "      <td>No</td>\n",
       "    </tr>\n",
       "    <tr>\n",
       "      <th>3</th>\n",
       "      <td>215953</td>\n",
       "      <td>Airplane</td>\n",
       "      <td>SEATTLE-TACOMA INTL</td>\n",
       "      <td>&lt; 1000 ft</td>\n",
       "      <td>B-737-400</td>\n",
       "      <td>Over 100</td>\n",
       "      <td>806</td>\n",
       "      <td>Precautionary Landing</td>\n",
       "      <td>2002-09-05</td>\n",
       "      <td>No damage</td>\n",
       "      <td>...</td>\n",
       "      <td>False</td>\n",
       "      <td>NOTAM WARNING. 26 BIRDS HIT THE A/C, FORCING A...</td>\n",
       "      <td>Small</td>\n",
       "      <td>Some Cloud</td>\n",
       "      <td>European starling</td>\n",
       "      <td>Y</td>\n",
       "      <td>0</td>\n",
       "      <td>50.0</td>\n",
       "      <td>0</td>\n",
       "      <td>Yes</td>\n",
       "    </tr>\n",
       "  </tbody>\n",
       "</table>\n",
       "<p>4 rows × 26 columns</p>\n",
       "</div>"
      ],
      "text/plain": [
       "   Record ID Aircraft: Type                      Airport Altitude bin Aircraft: Make/Model Wildlife: Number struck  Wildlife: Number Struck Actual Effect: Impact to flight FlightDate         Effect  ... Remains of wildlife sent to Smithsonian                                            Remarks Wildlife: Size Conditions: Sky      Wildlife: Species  Pilot warned of birds or wildlife?  Cost: Total $ Feet above ground Number of people injured Is Aircraft Large?\n",
       "0     202152       Airplane                 LAGUARDIA NY    > 1000 ft            B-737-400                Over 100                             859         Engine Shut Down 2000-11-23  Caused damage  ...                                   False  FLT 753. PILOT REPTD A HUNDRED BIRDS ON UNKN T...         Medium        No Cloud  Unknown bird - medium                                   N          30736            1500.0                        0                Yes\n",
       "1     208159       Airplane  DALLAS/FORT WORTH INTL ARPT    < 1000 ft                MD-80                Over 100                             424                     None 2001-07-25  Caused damage  ...                                   False  102 CARCASSES FOUND. 1 LDG LIGHT ON NOSE GEAR ...          Small      Some Cloud            Rock pigeon                                   Y              0               0.0                        0                 No\n",
       "2     207601       Airplane            LAKEFRONT AIRPORT    < 1000 ft                C-500                Over 100                             261                     None 2001-09-14      No damage  ...                                   False  FLEW UNDER A VERY LARGE FLOCK OF BIRDS OVER AP...          Small        No Cloud      European starling                                   N              0              50.0                        0                 No\n",
       "3     215953       Airplane          SEATTLE-TACOMA INTL    < 1000 ft            B-737-400                Over 100                             806    Precautionary Landing 2002-09-05      No damage  ...                                   False  NOTAM WARNING. 26 BIRDS HIT THE A/C, FORCING A...          Small      Some Cloud      European starling                                   Y              0              50.0                        0                Yes\n",
       "\n",
       "[4 rows x 26 columns]"
      ]
     },
     "execution_count": 5,
     "metadata": {},
     "output_type": "execute_result"
    }
   ],
   "source": [
    "import pandas as pd\n",
    "\n",
    "# Import the bird strike dataset\n",
    "df_bird_strikes = pd. read_excel('Bird_Strikes.xlsx')\n",
    "df_bird_strikes.head(4)"
   ]
  },
  {
   "cell_type": "markdown",
   "id": "dc3563f0",
   "metadata": {},
   "source": [
    "Next we'll filter the original dataframe results to only include flight leaving Denver International Airport that caused damage."
   ]
  },
  {
   "cell_type": "code",
   "execution_count": 6,
   "id": "92678927",
   "metadata": {},
   "outputs": [
    {
     "data": {
      "text/html": [
       "<div>\n",
       "<style scoped>\n",
       "    .dataframe tbody tr th:only-of-type {\n",
       "        vertical-align: middle;\n",
       "    }\n",
       "\n",
       "    .dataframe tbody tr th {\n",
       "        vertical-align: top;\n",
       "    }\n",
       "\n",
       "    .dataframe thead th {\n",
       "        text-align: right;\n",
       "    }\n",
       "</style>\n",
       "<table border=\"1\" class=\"dataframe\">\n",
       "  <thead>\n",
       "    <tr style=\"text-align: right;\">\n",
       "      <th></th>\n",
       "      <th>Record ID</th>\n",
       "      <th>Aircraft: Type</th>\n",
       "      <th>Airport</th>\n",
       "      <th>Altitude bin</th>\n",
       "      <th>Aircraft: Make/Model</th>\n",
       "      <th>Wildlife: Number struck</th>\n",
       "      <th>Wildlife: Number Struck Actual</th>\n",
       "      <th>Effect: Impact to flight</th>\n",
       "      <th>FlightDate</th>\n",
       "      <th>Effect</th>\n",
       "      <th>...</th>\n",
       "      <th>Remains of wildlife sent to Smithsonian</th>\n",
       "      <th>Remarks</th>\n",
       "      <th>Wildlife: Size</th>\n",
       "      <th>Conditions: Sky</th>\n",
       "      <th>Wildlife: Species</th>\n",
       "      <th>Pilot warned of birds or wildlife?</th>\n",
       "      <th>Cost: Total $</th>\n",
       "      <th>Feet above ground</th>\n",
       "      <th>Number of people injured</th>\n",
       "      <th>Is Aircraft Large?</th>\n",
       "    </tr>\n",
       "  </thead>\n",
       "  <tbody>\n",
       "    <tr>\n",
       "      <th>256</th>\n",
       "      <td>206943</td>\n",
       "      <td>Airplane</td>\n",
       "      <td>DENVER INTL AIRPORT</td>\n",
       "      <td>&lt; 1000 ft</td>\n",
       "      <td>B-737-300</td>\n",
       "      <td>2 to 10</td>\n",
       "      <td>10</td>\n",
       "      <td>None</td>\n",
       "      <td>2001-02-27</td>\n",
       "      <td>Caused damage</td>\n",
       "      <td>...</td>\n",
       "      <td>False</td>\n",
       "      <td>FORM WAS TORN, COULD NOT READ PHASE OR EFFECT.</td>\n",
       "      <td>Large</td>\n",
       "      <td>Some Cloud</td>\n",
       "      <td>Canada goose</td>\n",
       "      <td>N</td>\n",
       "      <td>0</td>\n",
       "      <td>300.0</td>\n",
       "      <td>0</td>\n",
       "      <td>Yes</td>\n",
       "    </tr>\n",
       "    <tr>\n",
       "      <th>393</th>\n",
       "      <td>209172</td>\n",
       "      <td>Airplane</td>\n",
       "      <td>DENVER INTL AIRPORT</td>\n",
       "      <td>&lt; 1000 ft</td>\n",
       "      <td>B-757-200</td>\n",
       "      <td>2 to 10</td>\n",
       "      <td>2</td>\n",
       "      <td>None</td>\n",
       "      <td>2001-09-22</td>\n",
       "      <td>Caused damage</td>\n",
       "      <td>...</td>\n",
       "      <td>False</td>\n",
       "      <td>NO DMG OTHER THAN BLOOD STAINS AND CHIPPED PAINT.</td>\n",
       "      <td>Small</td>\n",
       "      <td>No Cloud</td>\n",
       "      <td>European starling</td>\n",
       "      <td>Y</td>\n",
       "      <td>0</td>\n",
       "      <td>300.0</td>\n",
       "      <td>0</td>\n",
       "      <td>Yes</td>\n",
       "    </tr>\n",
       "    <tr>\n",
       "      <th>726</th>\n",
       "      <td>219466</td>\n",
       "      <td>Airplane</td>\n",
       "      <td>DENVER INTL AIRPORT</td>\n",
       "      <td>&lt; 1000 ft</td>\n",
       "      <td>BE-1900</td>\n",
       "      <td>2 to 10</td>\n",
       "      <td>7</td>\n",
       "      <td>None</td>\n",
       "      <td>2002-10-31</td>\n",
       "      <td>Caused damage</td>\n",
       "      <td>...</td>\n",
       "      <td>False</td>\n",
       "      <td>ARPT OPS &amp; WS BIOLOGIST WERE NOT MADE AWARE OF...</td>\n",
       "      <td>Large</td>\n",
       "      <td>Overcast</td>\n",
       "      <td>Canada goose</td>\n",
       "      <td>N</td>\n",
       "      <td>0</td>\n",
       "      <td>200.0</td>\n",
       "      <td>0</td>\n",
       "      <td>No</td>\n",
       "    </tr>\n",
       "    <tr>\n",
       "      <th>1982</th>\n",
       "      <td>244442</td>\n",
       "      <td>Airplane</td>\n",
       "      <td>DENVER INTL AIRPORT</td>\n",
       "      <td>&lt; 1000 ft</td>\n",
       "      <td>CL-RJ700</td>\n",
       "      <td>2 to 10</td>\n",
       "      <td>7</td>\n",
       "      <td>None</td>\n",
       "      <td>2006-11-10</td>\n",
       "      <td>Caused damage</td>\n",
       "      <td>...</td>\n",
       "      <td>False</td>\n",
       "      <td>FLAPS ON L WING DAMAGED.</td>\n",
       "      <td>Medium</td>\n",
       "      <td>No Cloud</td>\n",
       "      <td>Unknown bird - medium</td>\n",
       "      <td>N</td>\n",
       "      <td>0</td>\n",
       "      <td>900.0</td>\n",
       "      <td>0</td>\n",
       "      <td>No</td>\n",
       "    </tr>\n",
       "  </tbody>\n",
       "</table>\n",
       "<p>4 rows × 26 columns</p>\n",
       "</div>"
      ],
      "text/plain": [
       "      Record ID Aircraft: Type              Airport Altitude bin Aircraft: Make/Model Wildlife: Number struck  Wildlife: Number Struck Actual Effect: Impact to flight FlightDate         Effect  ... Remains of wildlife sent to Smithsonian                                            Remarks Wildlife: Size Conditions: Sky      Wildlife: Species  Pilot warned of birds or wildlife?  Cost: Total $ Feet above ground Number of people injured Is Aircraft Large?\n",
       "256      206943       Airplane  DENVER INTL AIRPORT    < 1000 ft            B-737-300                 2 to 10                              10                     None 2001-02-27  Caused damage  ...                                   False     FORM WAS TORN, COULD NOT READ PHASE OR EFFECT.          Large      Some Cloud           Canada goose                                   N              0             300.0                        0                Yes\n",
       "393      209172       Airplane  DENVER INTL AIRPORT    < 1000 ft            B-757-200                 2 to 10                               2                     None 2001-09-22  Caused damage  ...                                   False  NO DMG OTHER THAN BLOOD STAINS AND CHIPPED PAINT.          Small        No Cloud      European starling                                   Y              0             300.0                        0                Yes\n",
       "726      219466       Airplane  DENVER INTL AIRPORT    < 1000 ft              BE-1900                 2 to 10                               7                     None 2002-10-31  Caused damage  ...                                   False  ARPT OPS & WS BIOLOGIST WERE NOT MADE AWARE OF...          Large        Overcast           Canada goose                                   N              0             200.0                        0                 No\n",
       "1982     244442       Airplane  DENVER INTL AIRPORT    < 1000 ft             CL-RJ700                 2 to 10                               7                     None 2006-11-10  Caused damage  ...                                   False                           FLAPS ON L WING DAMAGED.         Medium        No Cloud  Unknown bird - medium                                   N              0             900.0                        0                 No\n",
       "\n",
       "[4 rows x 26 columns]"
      ]
     },
     "execution_count": 6,
     "metadata": {},
     "output_type": "execute_result"
    }
   ],
   "source": [
    "df_bird_strikes_denver = df_bird_strikes.query('Airport == \"DENVER INTL AIRPORT\" and Effect == \"Caused damage\"')\n",
    "df_bird_strikes_denver.head(4)"
   ]
  },
  {
   "cell_type": "markdown",
   "id": "599737d7",
   "metadata": {},
   "source": [
    "We may also have the need to group this data by a certain column, for instance the airline. We can use value_counts() for this."
   ]
  },
  {
   "cell_type": "code",
   "execution_count": 7,
   "id": "9be6b33e",
   "metadata": {},
   "outputs": [
    {
     "data": {
      "text/plain": [
       "FRONTIER AIRLINES       12\n",
       "GREAT LAKES AIRLINES     5\n",
       "SOUTHWEST AIRLINES       5\n",
       "SKYWEST AIRLINES         2\n",
       "DELTA AIR LINES          1\n",
       "UNITED AIRLINES          1\n",
       "US AIRWAYS               1\n",
       "Name: Airline, dtype: int64"
      ]
     },
     "execution_count": 7,
     "metadata": {},
     "output_type": "execute_result"
    }
   ],
   "source": [
    "df_bird_strikes.query('Airport == \"DENVER INTL AIRPORT\" and Effect == \"Caused damage\"') \\\n",
    "    ['Airline'].value_counts()"
   ]
  },
  {
   "cell_type": "markdown",
   "id": "1a4601a8",
   "metadata": {},
   "source": [
    "## Using Pandas Merging to joining two dataframes.\n",
    "In the first dataframe the customer has a unique customer_id. The purchasesdataframe also has the customer_id.\n"
   ]
  },
  {
   "cell_type": "code",
   "execution_count": 8,
   "id": "7ba9d59b",
   "metadata": {},
   "outputs": [],
   "source": [
    "import pandas as pd\n",
    "\n",
    "# Create Pandas dataframe\n",
    "customers = pd.DataFrame(\n",
    "    {\n",
    "        \"customer_id\": [\"A\", \"B\", \"C\", \"D\"],\n",
    "        \"name\": [\"Bob\", \"Dave\", \"Janet\", \"Barabara\"]\n",
    "    }\n",
    ")\n",
    "\n",
    "# Create Pandas dataframe\n",
    "purchases = pd.DataFrame(\n",
    "    {\n",
    "        \"customer_id\": [\"B\", \"A\", \"C\", \"E\", \"F\"],\n",
    "        \"item\": [\"pizza\", \"sushi\",\n",
    "        \"coney dogs\", \"steak\", \"potatoes\"],\n",
    "        \"price\": [100, 200, 110, 230, 500],\n",
    "    }\n",
    ")\n"
   ]
  },
  {
   "attachments": {
    "left_join.JPG": {
     "image/jpeg": "[encoded data removed]"
    }
   },
   "cell_type": "markdown",
   "id": "340b3179",
   "metadata": {},
   "source": [
    "We can use pd.merge() to combine dataframes on any common columns, in this case we can use the customer_id. In this first example we use \"how=left\" to keep everything from the left dataframe - a left join.  \n",
    "![left_join.JPG](attachment:left_join.JPG)"
   ]
  },
  {
   "cell_type": "code",
   "execution_count": 9,
   "id": "66663b98",
   "metadata": {},
   "outputs": [
    {
     "data": {
      "text/html": [
       "<div>\n",
       "<style scoped>\n",
       "    .dataframe tbody tr th:only-of-type {\n",
       "        vertical-align: middle;\n",
       "    }\n",
       "\n",
       "    .dataframe tbody tr th {\n",
       "        vertical-align: top;\n",
       "    }\n",
       "\n",
       "    .dataframe thead th {\n",
       "        text-align: right;\n",
       "    }\n",
       "</style>\n",
       "<table border=\"1\" class=\"dataframe\">\n",
       "  <thead>\n",
       "    <tr style=\"text-align: right;\">\n",
       "      <th></th>\n",
       "      <th>customer_id</th>\n",
       "      <th>name</th>\n",
       "      <th>item</th>\n",
       "      <th>price</th>\n",
       "    </tr>\n",
       "  </thead>\n",
       "  <tbody>\n",
       "    <tr>\n",
       "      <th>0</th>\n",
       "      <td>A</td>\n",
       "      <td>Bob</td>\n",
       "      <td>sushi</td>\n",
       "      <td>200.0</td>\n",
       "    </tr>\n",
       "    <tr>\n",
       "      <th>1</th>\n",
       "      <td>B</td>\n",
       "      <td>Dave</td>\n",
       "      <td>pizza</td>\n",
       "      <td>100.0</td>\n",
       "    </tr>\n",
       "    <tr>\n",
       "      <th>2</th>\n",
       "      <td>C</td>\n",
       "      <td>Janet</td>\n",
       "      <td>coney dogs</td>\n",
       "      <td>110.0</td>\n",
       "    </tr>\n",
       "    <tr>\n",
       "      <th>3</th>\n",
       "      <td>D</td>\n",
       "      <td>Barabara</td>\n",
       "      <td>NaN</td>\n",
       "      <td>NaN</td>\n",
       "    </tr>\n",
       "  </tbody>\n",
       "</table>\n",
       "</div>"
      ],
      "text/plain": [
       "  customer_id      name        item  price\n",
       "0           A       Bob       sushi  200.0\n",
       "1           B      Dave       pizza  100.0\n",
       "2           C     Janet  coney dogs  110.0\n",
       "3           D  Barabara         NaN    NaN"
      ]
     },
     "execution_count": 9,
     "metadata": {},
     "output_type": "execute_result"
    }
   ],
   "source": [
    "# Merge the two Pandas dataframes using left join\n",
    "merged_df = pd.merge(customers, purchases, how=\"left\")\n",
    "merged_df.head(4)"
   ]
  },
  {
   "attachments": {
    "right_join.JPG": {
     "image/jpeg": "[encoded data removed]"
    }
   },
   "cell_type": "markdown",
   "id": "c3c180c6",
   "metadata": {},
   "source": [
    "In this next example we use \"how=right\" to keep everything from the right df - a right join.  \n",
    "![right_join.JPG](attachment:right_join.JPG)"
   ]
  },
  {
   "cell_type": "code",
   "execution_count": 10,
   "id": "3520a4df",
   "metadata": {},
   "outputs": [
    {
     "data": {
      "text/html": [
       "<div>\n",
       "<style scoped>\n",
       "    .dataframe tbody tr th:only-of-type {\n",
       "        vertical-align: middle;\n",
       "    }\n",
       "\n",
       "    .dataframe tbody tr th {\n",
       "        vertical-align: top;\n",
       "    }\n",
       "\n",
       "    .dataframe thead th {\n",
       "        text-align: right;\n",
       "    }\n",
       "</style>\n",
       "<table border=\"1\" class=\"dataframe\">\n",
       "  <thead>\n",
       "    <tr style=\"text-align: right;\">\n",
       "      <th></th>\n",
       "      <th>customer_id</th>\n",
       "      <th>name</th>\n",
       "      <th>item</th>\n",
       "      <th>price</th>\n",
       "    </tr>\n",
       "  </thead>\n",
       "  <tbody>\n",
       "    <tr>\n",
       "      <th>0</th>\n",
       "      <td>A</td>\n",
       "      <td>Bob</td>\n",
       "      <td>sushi</td>\n",
       "      <td>200.0</td>\n",
       "    </tr>\n",
       "    <tr>\n",
       "      <th>1</th>\n",
       "      <td>B</td>\n",
       "      <td>Dave</td>\n",
       "      <td>pizza</td>\n",
       "      <td>100.0</td>\n",
       "    </tr>\n",
       "    <tr>\n",
       "      <th>2</th>\n",
       "      <td>C</td>\n",
       "      <td>Janet</td>\n",
       "      <td>coney dogs</td>\n",
       "      <td>110.0</td>\n",
       "    </tr>\n",
       "    <tr>\n",
       "      <th>3</th>\n",
       "      <td>D</td>\n",
       "      <td>Barabara</td>\n",
       "      <td>NaN</td>\n",
       "      <td>NaN</td>\n",
       "    </tr>\n",
       "  </tbody>\n",
       "</table>\n",
       "</div>"
      ],
      "text/plain": [
       "  customer_id      name        item  price\n",
       "0           A       Bob       sushi  200.0\n",
       "1           B      Dave       pizza  100.0\n",
       "2           C     Janet  coney dogs  110.0\n",
       "3           D  Barabara         NaN    NaN"
      ]
     },
     "execution_count": 10,
     "metadata": {},
     "output_type": "execute_result"
    }
   ],
   "source": [
    "#merged_df = purchases.merge(customers, how=\"right\")\n",
    "merged_df = pd.merge(customers, purchases, how=\"left\")\n",
    "merged_df.head(4)"
   ]
  },
  {
   "cell_type": "markdown",
   "id": "6c6b5806",
   "metadata": {},
   "source": [
    "Another way to do it is to just call \"merge\" on any dataframe."
   ]
  },
  {
   "cell_type": "code",
   "execution_count": 11,
   "id": "c9c44b5c",
   "metadata": {},
   "outputs": [
    {
     "data": {
      "text/html": [
       "<div>\n",
       "<style scoped>\n",
       "    .dataframe tbody tr th:only-of-type {\n",
       "        vertical-align: middle;\n",
       "    }\n",
       "\n",
       "    .dataframe tbody tr th {\n",
       "        vertical-align: top;\n",
       "    }\n",
       "\n",
       "    .dataframe thead th {\n",
       "        text-align: right;\n",
       "    }\n",
       "</style>\n",
       "<table border=\"1\" class=\"dataframe\">\n",
       "  <thead>\n",
       "    <tr style=\"text-align: right;\">\n",
       "      <th></th>\n",
       "      <th>customer_id</th>\n",
       "      <th>name</th>\n",
       "      <th>item</th>\n",
       "      <th>price</th>\n",
       "    </tr>\n",
       "  </thead>\n",
       "  <tbody>\n",
       "    <tr>\n",
       "      <th>0</th>\n",
       "      <td>A</td>\n",
       "      <td>Bob</td>\n",
       "      <td>sushi</td>\n",
       "      <td>200.0</td>\n",
       "    </tr>\n",
       "    <tr>\n",
       "      <th>1</th>\n",
       "      <td>B</td>\n",
       "      <td>Dave</td>\n",
       "      <td>pizza</td>\n",
       "      <td>100.0</td>\n",
       "    </tr>\n",
       "    <tr>\n",
       "      <th>2</th>\n",
       "      <td>C</td>\n",
       "      <td>Janet</td>\n",
       "      <td>coney dogs</td>\n",
       "      <td>110.0</td>\n",
       "    </tr>\n",
       "    <tr>\n",
       "      <th>3</th>\n",
       "      <td>D</td>\n",
       "      <td>Barabara</td>\n",
       "      <td>NaN</td>\n",
       "      <td>NaN</td>\n",
       "    </tr>\n",
       "  </tbody>\n",
       "</table>\n",
       "</div>"
      ],
      "text/plain": [
       "  customer_id      name        item  price\n",
       "0           A       Bob       sushi  200.0\n",
       "1           B      Dave       pizza  100.0\n",
       "2           C     Janet  coney dogs  110.0\n",
       "3           D  Barabara         NaN    NaN"
      ]
     },
     "execution_count": 11,
     "metadata": {},
     "output_type": "execute_result"
    }
   ],
   "source": [
    "import pandas as pd\n",
    "\n",
    "# Create Pandas dataframe\n",
    "customers = pd.DataFrame(\n",
    "    {\n",
    "        \"customer_id\": [\"A\", \"B\", \"C\", \"D\"],\n",
    "        \"name\": [\"Bob\", \"Dave\", \"Janet\", \"Barabara\"]\n",
    "    }\n",
    ")\n",
    "\n",
    "# Create Pandas dataframe\n",
    "purchases = pd.DataFrame(\n",
    "    {\n",
    "        \"customer_id\": [\"B\", \"A\", \"C\", \"E\", \"F\"],\n",
    "        \"item\": [\"pizza\", \"sushi\",\n",
    "        \"coney dogs\", \"steak\", \"potatoes\"],\n",
    "        \"price\": [100, 200, 110, 230, 500],\n",
    "    }\n",
    ")\n",
    "\n",
    "# Left join merge \n",
    "merged_df = pd.merge(customers, purchases, how=\"left\")\n",
    "merged_df = customers.merge(purchases, how=\"left\")\n",
    "merged_df.head(4)"
   ]
  },
  {
   "cell_type": "markdown",
   "id": "2db411f9",
   "metadata": {},
   "source": [
    "## Creating a new columns in your dataframe\n",
    "We can use Pandas to add columns to a dataframe."
   ]
  },
  {
   "cell_type": "code",
   "execution_count": 12,
   "id": "1d6e9421",
   "metadata": {},
   "outputs": [
    {
     "data": {
      "text/html": [
       "<div>\n",
       "<style scoped>\n",
       "    .dataframe tbody tr th:only-of-type {\n",
       "        vertical-align: middle;\n",
       "    }\n",
       "\n",
       "    .dataframe tbody tr th {\n",
       "        vertical-align: top;\n",
       "    }\n",
       "\n",
       "    .dataframe thead th {\n",
       "        text-align: right;\n",
       "    }\n",
       "</style>\n",
       "<table border=\"1\" class=\"dataframe\">\n",
       "  <thead>\n",
       "    <tr style=\"text-align: right;\">\n",
       "      <th></th>\n",
       "      <th>Name</th>\n",
       "      <th>Age</th>\n",
       "      <th>City</th>\n",
       "      <th>Country</th>\n",
       "      <th>Grade</th>\n",
       "      <th>Gender</th>\n",
       "    </tr>\n",
       "  </thead>\n",
       "  <tbody>\n",
       "    <tr>\n",
       "      <th>a</th>\n",
       "      <td>Scott</td>\n",
       "      <td>45</td>\n",
       "      <td>Centennial</td>\n",
       "      <td>US</td>\n",
       "      <td>100.0</td>\n",
       "      <td>M</td>\n",
       "    </tr>\n",
       "    <tr>\n",
       "      <th>b</th>\n",
       "      <td>Christy</td>\n",
       "      <td>44</td>\n",
       "      <td>Greenwood Village</td>\n",
       "      <td>US</td>\n",
       "      <td>94.9</td>\n",
       "      <td>F</td>\n",
       "    </tr>\n",
       "    <tr>\n",
       "      <th>c</th>\n",
       "      <td>Michael</td>\n",
       "      <td>31</td>\n",
       "      <td>Denver</td>\n",
       "      <td>US</td>\n",
       "      <td>84.3</td>\n",
       "      <td>M</td>\n",
       "    </tr>\n",
       "    <tr>\n",
       "      <th>d</th>\n",
       "      <td>Dan</td>\n",
       "      <td>28</td>\n",
       "      <td>Arvada</td>\n",
       "      <td>US</td>\n",
       "      <td>92.0</td>\n",
       "      <td>M</td>\n",
       "    </tr>\n",
       "    <tr>\n",
       "      <th>e</th>\n",
       "      <td>Christopher</td>\n",
       "      <td>24</td>\n",
       "      <td>Denver</td>\n",
       "      <td>US</td>\n",
       "      <td>88.7</td>\n",
       "      <td>M</td>\n",
       "    </tr>\n",
       "    <tr>\n",
       "      <th>f</th>\n",
       "      <td>Robert</td>\n",
       "      <td>32</td>\n",
       "      <td>Littleton</td>\n",
       "      <td>US</td>\n",
       "      <td>33.5</td>\n",
       "      <td>M</td>\n",
       "    </tr>\n",
       "  </tbody>\n",
       "</table>\n",
       "</div>"
      ],
      "text/plain": [
       "          Name  Age               City Country  Grade Gender\n",
       "a        Scott   45         Centennial      US  100.0      M\n",
       "b      Christy   44  Greenwood Village      US   94.9      F\n",
       "c      Michael   31             Denver      US   84.3      M\n",
       "d          Dan   28             Arvada      US   92.0      M\n",
       "e  Christopher   24             Denver      US   88.7      M\n",
       "f       Robert   32          Littleton      US   33.5      M"
      ]
     },
     "execution_count": 12,
     "metadata": {},
     "output_type": "execute_result"
    }
   ],
   "source": [
    "# Importing pandas library\n",
    "import pandas as pd\n",
    " \n",
    "# Creating and initializing a nested list\n",
    "students = [['Scott', 45, 'Centennial', 'US'],\n",
    "            ['Christy', 44, 'Greenwood Village', 'US'],\n",
    "            ['Michael', 31, 'Denver', 'US'],\n",
    "            ['Dan', 28, 'Arvada', 'US'],\n",
    "            ['Christopher', 24, 'Denver', 'US'],\n",
    "            ['Robert', 32, 'Littleton', 'US']]\n",
    " \n",
    "# Create a DataFrame object\n",
    "df_students = pd.DataFrame(students,\n",
    "                  columns=['Name', 'Age', 'City', 'Country'],\n",
    "                  index=['a', 'b', 'c', 'd', 'e', 'f'])\n",
    "\n",
    "# Using dataframe.assign() function\n",
    "df_students = df_students.assign(Grade=[100,94.9,84.3,92,88.7,33.5],\n",
    "               Gender=['M','F','M','M','M','M'])\n",
    "             \n",
    "# Displaying the Data frame\n",
    "df_students    "
   ]
  },
  {
   "cell_type": "markdown",
   "id": "df63b102",
   "metadata": {},
   "source": [
    "We can also use dataframe.assign() to create the new columns."
   ]
  },
  {
   "cell_type": "code",
   "execution_count": 13,
   "id": "41cd9de1",
   "metadata": {},
   "outputs": [
    {
     "data": {
      "text/html": [
       "<div>\n",
       "<style scoped>\n",
       "    .dataframe tbody tr th:only-of-type {\n",
       "        vertical-align: middle;\n",
       "    }\n",
       "\n",
       "    .dataframe tbody tr th {\n",
       "        vertical-align: top;\n",
       "    }\n",
       "\n",
       "    .dataframe thead th {\n",
       "        text-align: right;\n",
       "    }\n",
       "</style>\n",
       "<table border=\"1\" class=\"dataframe\">\n",
       "  <thead>\n",
       "    <tr style=\"text-align: right;\">\n",
       "      <th></th>\n",
       "      <th>Name</th>\n",
       "      <th>Age</th>\n",
       "      <th>City</th>\n",
       "      <th>Country</th>\n",
       "      <th>Grade</th>\n",
       "      <th>Gender</th>\n",
       "    </tr>\n",
       "  </thead>\n",
       "  <tbody>\n",
       "    <tr>\n",
       "      <th>a</th>\n",
       "      <td>Scott</td>\n",
       "      <td>45</td>\n",
       "      <td>Centennial</td>\n",
       "      <td>US</td>\n",
       "      <td>100.0</td>\n",
       "      <td>M</td>\n",
       "    </tr>\n",
       "    <tr>\n",
       "      <th>b</th>\n",
       "      <td>Christy</td>\n",
       "      <td>44</td>\n",
       "      <td>Greenwood Village</td>\n",
       "      <td>US</td>\n",
       "      <td>94.9</td>\n",
       "      <td>F</td>\n",
       "    </tr>\n",
       "    <tr>\n",
       "      <th>c</th>\n",
       "      <td>Michael</td>\n",
       "      <td>31</td>\n",
       "      <td>Denver</td>\n",
       "      <td>US</td>\n",
       "      <td>84.3</td>\n",
       "      <td>M</td>\n",
       "    </tr>\n",
       "    <tr>\n",
       "      <th>d</th>\n",
       "      <td>Chad</td>\n",
       "      <td>28</td>\n",
       "      <td>Arvada</td>\n",
       "      <td>US</td>\n",
       "      <td>92.0</td>\n",
       "      <td>M</td>\n",
       "    </tr>\n",
       "    <tr>\n",
       "      <th>e</th>\n",
       "      <td>Christopher</td>\n",
       "      <td>24</td>\n",
       "      <td>Denver</td>\n",
       "      <td>US</td>\n",
       "      <td>88.7</td>\n",
       "      <td>M</td>\n",
       "    </tr>\n",
       "    <tr>\n",
       "      <th>f</th>\n",
       "      <td>Ned</td>\n",
       "      <td>32</td>\n",
       "      <td>Littleton</td>\n",
       "      <td>US</td>\n",
       "      <td>33.5</td>\n",
       "      <td>M</td>\n",
       "    </tr>\n",
       "  </tbody>\n",
       "</table>\n",
       "</div>"
      ],
      "text/plain": [
       "          Name  Age               City Country  Grade Gender\n",
       "a        Scott   45         Centennial      US  100.0      M\n",
       "b      Christy   44  Greenwood Village      US   94.9      F\n",
       "c      Michael   31             Denver      US   84.3      M\n",
       "d         Chad   28             Arvada      US   92.0      M\n",
       "e  Christopher   24             Denver      US   88.7      M\n",
       "f          Ned   32          Littleton      US   33.5      M"
      ]
     },
     "execution_count": 13,
     "metadata": {},
     "output_type": "execute_result"
    }
   ],
   "source": [
    "# Importing pandas library\n",
    "import pandas as pd\n",
    " \n",
    "# Creating and initializing a nested list\n",
    "students = [['Scott', 45, 'Centennial', 'US'],\n",
    "            ['Christy', 44, 'Greenwood Village', 'US'],\n",
    "            ['Michael', 31, 'Denver', 'US'],\n",
    "            ['Chad', 28, 'Arvada', 'US'],\n",
    "            ['Christopher', 24, 'Denver', 'US'],\n",
    "            ['Ned', 32, 'Littleton', 'US']]\n",
    " \n",
    "# Create a DataFrame object\n",
    "df_students = pd.DataFrame(students,\n",
    "                  columns=['Name', 'Age', 'City', 'Country'],\n",
    "                  index=['a', 'b', 'c', 'd', 'e', 'f'])\n",
    "\n",
    "# Using dataframe.assign() function\n",
    "df_students = df_students.assign(Grade=[100,94.9,84.3,92,88.7,33.5],\n",
    "               Gender=['M','F','M','M','M','M'])\n",
    " \n",
    "# Displaying the Data frame\n",
    "df_students"
   ]
  },
  {
   "cell_type": "markdown",
   "id": "cb383e41",
   "metadata": {},
   "source": [
    "#### Assigning a list to the dictionary index\n",
    "A list of index columns can be added using .index."
   ]
  },
  {
   "cell_type": "code",
   "execution_count": 14,
   "id": "ebe46647",
   "metadata": {},
   "outputs": [
    {
     "name": "stdout",
     "output_type": "stream",
     "text": [
      "         country  drives_right  cars_per_cap\n",
      "0  United States          True           809\n",
      "1      Australia         False           731\n",
      "2          Japan         False           588\n",
      "3          India         False            18\n",
      "4         Russia          True           200\n",
      "5        Morocco          True            70\n",
      "6          Egypt          True            45\n",
      "           country  drives_right  cars_per_cap\n",
      "US   United States          True           809\n",
      "AUS      Australia         False           731\n",
      "JPN          Japan         False           588\n",
      "IN           India         False            18\n",
      "RU          Russia          True           200\n",
      "MOR        Morocco          True            70\n",
      "EG           Egypt          True            45\n"
     ]
    }
   ],
   "source": [
    "import pandas as pd\n",
    "\n",
    "# Build cars DataFrame\n",
    "names = ['United States', 'Australia', 'Japan', 'India', 'Russia', 'Morocco', 'Egypt']\n",
    "dr =  [True, False, False, False, True, True, True]\n",
    "cpc = [809, 731, 588, 18, 200, 70, 45]\n",
    "cars_dict = { 'country':names, 'drives_right':dr, 'cars_per_cap':cpc }\n",
    "cars = pd.DataFrame(cars_dict)\n",
    "print(cars)\n",
    "\n",
    "# Definition of row_labels\n",
    "row_labels = ['US', 'AUS', 'JPN', 'IN', 'RU', 'MOR', 'EG']\n",
    "\n",
    "# Specify row labels of cars\n",
    "cars.index = row_labels\n",
    "\n",
    "# Print cars again\n",
    "print(cars)"
   ]
  },
  {
   "cell_type": "markdown",
   "id": "bbd55ca6",
   "metadata": {},
   "source": [
    "### Column Access\n",
    "By using 'index_col = 0'the column headings are displayed"
   ]
  },
  {
   "cell_type": "code",
   "execution_count": 15,
   "id": "64542410",
   "metadata": {},
   "outputs": [
    {
     "data": {
      "text/html": [
       "<div>\n",
       "<style scoped>\n",
       "    .dataframe tbody tr th:only-of-type {\n",
       "        vertical-align: middle;\n",
       "    }\n",
       "\n",
       "    .dataframe tbody tr th {\n",
       "        vertical-align: top;\n",
       "    }\n",
       "\n",
       "    .dataframe thead th {\n",
       "        text-align: right;\n",
       "    }\n",
       "</style>\n",
       "<table border=\"1\" class=\"dataframe\">\n",
       "  <thead>\n",
       "    <tr style=\"text-align: right;\">\n",
       "      <th></th>\n",
       "      <th>country</th>\n",
       "      <th>capital</th>\n",
       "      <th>area</th>\n",
       "      <th>population</th>\n",
       "    </tr>\n",
       "  </thead>\n",
       "  <tbody>\n",
       "    <tr>\n",
       "      <th>BR</th>\n",
       "      <td>Brazil</td>\n",
       "      <td>Brasilia</td>\n",
       "      <td>8.516</td>\n",
       "      <td>200.40</td>\n",
       "    </tr>\n",
       "    <tr>\n",
       "      <th>RU</th>\n",
       "      <td>Russia</td>\n",
       "      <td>Moscow</td>\n",
       "      <td>1.100</td>\n",
       "      <td>143.50</td>\n",
       "    </tr>\n",
       "    <tr>\n",
       "      <th>IN</th>\n",
       "      <td>India</td>\n",
       "      <td>New Delhi</td>\n",
       "      <td>3.286</td>\n",
       "      <td>1252.00</td>\n",
       "    </tr>\n",
       "    <tr>\n",
       "      <th>CH</th>\n",
       "      <td>China</td>\n",
       "      <td>Beijing</td>\n",
       "      <td>9.597</td>\n",
       "      <td>1357.00</td>\n",
       "    </tr>\n",
       "    <tr>\n",
       "      <th>SA</th>\n",
       "      <td>South Africa</td>\n",
       "      <td>Pretoria</td>\n",
       "      <td>1.221</td>\n",
       "      <td>52.98</td>\n",
       "    </tr>\n",
       "    <tr>\n",
       "      <th>GR</th>\n",
       "      <td>Germany</td>\n",
       "      <td>Berlin</td>\n",
       "      <td>4.120</td>\n",
       "      <td>84.50</td>\n",
       "    </tr>\n",
       "  </tbody>\n",
       "</table>\n",
       "</div>"
      ],
      "text/plain": [
       "         country    capital   area  population\n",
       "BR        Brazil   Brasilia  8.516      200.40\n",
       "RU        Russia     Moscow  1.100      143.50\n",
       "IN         India  New Delhi  3.286     1252.00\n",
       "CH        China     Beijing  9.597     1357.00\n",
       "SA  South Africa   Pretoria  1.221       52.98\n",
       "GR       Germany     Berlin  4.120       84.50"
      ]
     },
     "execution_count": 15,
     "metadata": {},
     "output_type": "execute_result"
    }
   ],
   "source": [
    "import pandas as pd\n",
    "\n",
    "#Read csv with pandas\n",
    "brics = pd.read_csv(\"country_capitals.csv\", index_col = 0)\n",
    "brics"
   ]
  },
  {
   "cell_type": "markdown",
   "id": "22a1c02f",
   "metadata": {},
   "source": [
    "The square brackets are used to select.  Here the country is selected."
   ]
  },
  {
   "cell_type": "code",
   "execution_count": 16,
   "id": "23bcced0",
   "metadata": {},
   "outputs": [
    {
     "data": {
      "text/plain": [
       "BR          Brazil\n",
       "RU          Russia\n",
       "IN           India\n",
       "CH          China \n",
       "SA    South Africa\n",
       "GR         Germany\n",
       "Name: country, dtype: object"
      ]
     },
     "execution_count": 16,
     "metadata": {},
     "output_type": "execute_result"
    }
   ],
   "source": [
    "brics[\"country\"]"
   ]
  },
  {
   "cell_type": "markdown",
   "id": "1872dd4c",
   "metadata": {},
   "source": [
    "Notice how the dtype is an object. If we use double square brackets and check the type we see that it's a <b>sub dataframe</b>. Also, by adding two or more items it's esentially like adding a list."
   ]
  },
  {
   "cell_type": "code",
   "execution_count": 17,
   "id": "20c5ed0a",
   "metadata": {},
   "outputs": [
    {
     "data": {
      "text/plain": [
       "pandas.core.frame.DataFrame"
      ]
     },
     "execution_count": 17,
     "metadata": {},
     "output_type": "execute_result"
    }
   ],
   "source": [
    "type(brics[[\"country\", \"capital\"]])"
   ]
  },
  {
   "cell_type": "markdown",
   "id": "7d35ba9a",
   "metadata": {},
   "source": [
    "Another way to do this is to use a <b>slice</b>.  Here the first three rows are selected."
   ]
  },
  {
   "cell_type": "code",
   "execution_count": 18,
   "id": "f2d35ad3",
   "metadata": {},
   "outputs": [
    {
     "data": {
      "text/html": [
       "<div>\n",
       "<style scoped>\n",
       "    .dataframe tbody tr th:only-of-type {\n",
       "        vertical-align: middle;\n",
       "    }\n",
       "\n",
       "    .dataframe tbody tr th {\n",
       "        vertical-align: top;\n",
       "    }\n",
       "\n",
       "    .dataframe thead th {\n",
       "        text-align: right;\n",
       "    }\n",
       "</style>\n",
       "<table border=\"1\" class=\"dataframe\">\n",
       "  <thead>\n",
       "    <tr style=\"text-align: right;\">\n",
       "      <th></th>\n",
       "      <th>country</th>\n",
       "      <th>capital</th>\n",
       "      <th>area</th>\n",
       "      <th>population</th>\n",
       "    </tr>\n",
       "  </thead>\n",
       "  <tbody>\n",
       "    <tr>\n",
       "      <th>RU</th>\n",
       "      <td>Russia</td>\n",
       "      <td>Moscow</td>\n",
       "      <td>1.100</td>\n",
       "      <td>143.5</td>\n",
       "    </tr>\n",
       "    <tr>\n",
       "      <th>IN</th>\n",
       "      <td>India</td>\n",
       "      <td>New Delhi</td>\n",
       "      <td>3.286</td>\n",
       "      <td>1252.0</td>\n",
       "    </tr>\n",
       "    <tr>\n",
       "      <th>CH</th>\n",
       "      <td>China</td>\n",
       "      <td>Beijing</td>\n",
       "      <td>9.597</td>\n",
       "      <td>1357.0</td>\n",
       "    </tr>\n",
       "  </tbody>\n",
       "</table>\n",
       "</div>"
      ],
      "text/plain": [
       "   country    capital   area  population\n",
       "RU  Russia     Moscow  1.100       143.5\n",
       "IN   India  New Delhi  3.286      1252.0\n",
       "CH  China     Beijing  9.597      1357.0"
      ]
     },
     "execution_count": 18,
     "metadata": {},
     "output_type": "execute_result"
    }
   ],
   "source": [
    "brics[1:4]"
   ]
  },
  {
   "cell_type": "markdown",
   "id": "a80ff0e3",
   "metadata": {},
   "source": [
    "Square brackets are limited. Ideally we may want a 2D Numpy array. my_array[rows, columns].  'loc' is label-based, 'iloc' in integer based."
   ]
  },
  {
   "cell_type": "code",
   "execution_count": 19,
   "id": "df648339",
   "metadata": {},
   "outputs": [
    {
     "data": {
      "text/plain": [
       "country       Russia\n",
       "capital       Moscow\n",
       "area             1.1\n",
       "population     143.5\n",
       "Name: RU, dtype: object"
      ]
     },
     "execution_count": 19,
     "metadata": {},
     "output_type": "execute_result"
    }
   ],
   "source": [
    "brics.loc[\"RU\"]"
   ]
  },
  {
   "cell_type": "markdown",
   "id": "83ce8f7f",
   "metadata": {},
   "source": [
    "To get a dataframe, we have to put and \"RU\" string inside another pair of brackets."
   ]
  },
  {
   "cell_type": "code",
   "execution_count": 20,
   "id": "bcfabb26",
   "metadata": {},
   "outputs": [
    {
     "data": {
      "text/html": [
       "<div>\n",
       "<style scoped>\n",
       "    .dataframe tbody tr th:only-of-type {\n",
       "        vertical-align: middle;\n",
       "    }\n",
       "\n",
       "    .dataframe tbody tr th {\n",
       "        vertical-align: top;\n",
       "    }\n",
       "\n",
       "    .dataframe thead th {\n",
       "        text-align: right;\n",
       "    }\n",
       "</style>\n",
       "<table border=\"1\" class=\"dataframe\">\n",
       "  <thead>\n",
       "    <tr style=\"text-align: right;\">\n",
       "      <th></th>\n",
       "      <th>country</th>\n",
       "      <th>capital</th>\n",
       "      <th>area</th>\n",
       "      <th>population</th>\n",
       "    </tr>\n",
       "  </thead>\n",
       "  <tbody>\n",
       "    <tr>\n",
       "      <th>RU</th>\n",
       "      <td>Russia</td>\n",
       "      <td>Moscow</td>\n",
       "      <td>1.1</td>\n",
       "      <td>143.5</td>\n",
       "    </tr>\n",
       "  </tbody>\n",
       "</table>\n",
       "</div>"
      ],
      "text/plain": [
       "   country capital  area  population\n",
       "RU  Russia  Moscow   1.1       143.5"
      ]
     },
     "execution_count": 20,
     "metadata": {},
     "output_type": "execute_result"
    }
   ],
   "source": [
    "brics.loc[[\"RU\"]]"
   ]
  },
  {
   "cell_type": "markdown",
   "id": "d85e9f05",
   "metadata": {},
   "source": [
    "Using a comma seperate list with .loc will select those rows specified."
   ]
  },
  {
   "cell_type": "code",
   "execution_count": 21,
   "id": "e1f152b9",
   "metadata": {},
   "outputs": [
    {
     "data": {
      "text/html": [
       "<div>\n",
       "<style scoped>\n",
       "    .dataframe tbody tr th:only-of-type {\n",
       "        vertical-align: middle;\n",
       "    }\n",
       "\n",
       "    .dataframe tbody tr th {\n",
       "        vertical-align: top;\n",
       "    }\n",
       "\n",
       "    .dataframe thead th {\n",
       "        text-align: right;\n",
       "    }\n",
       "</style>\n",
       "<table border=\"1\" class=\"dataframe\">\n",
       "  <thead>\n",
       "    <tr style=\"text-align: right;\">\n",
       "      <th></th>\n",
       "      <th>country</th>\n",
       "      <th>capital</th>\n",
       "      <th>area</th>\n",
       "      <th>population</th>\n",
       "    </tr>\n",
       "  </thead>\n",
       "  <tbody>\n",
       "    <tr>\n",
       "      <th>RU</th>\n",
       "      <td>Russia</td>\n",
       "      <td>Moscow</td>\n",
       "      <td>1.100</td>\n",
       "      <td>143.5</td>\n",
       "    </tr>\n",
       "    <tr>\n",
       "      <th>IN</th>\n",
       "      <td>India</td>\n",
       "      <td>New Delhi</td>\n",
       "      <td>3.286</td>\n",
       "      <td>1252.0</td>\n",
       "    </tr>\n",
       "    <tr>\n",
       "      <th>CH</th>\n",
       "      <td>China</td>\n",
       "      <td>Beijing</td>\n",
       "      <td>9.597</td>\n",
       "      <td>1357.0</td>\n",
       "    </tr>\n",
       "  </tbody>\n",
       "</table>\n",
       "</div>"
      ],
      "text/plain": [
       "   country    capital   area  population\n",
       "RU  Russia     Moscow  1.100       143.5\n",
       "IN   India  New Delhi  3.286      1252.0\n",
       "CH  China     Beijing  9.597      1357.0"
      ]
     },
     "execution_count": 21,
     "metadata": {},
     "output_type": "execute_result"
    }
   ],
   "source": [
    "brics.loc[[\"RU\", \"IN\", \"CH\"]]"
   ]
  },
  {
   "cell_type": "markdown",
   "id": "8f81d6d5",
   "metadata": {},
   "source": [
    "The columns can also be selected with .loc."
   ]
  },
  {
   "cell_type": "code",
   "execution_count": 22,
   "id": "b95216d6",
   "metadata": {},
   "outputs": [
    {
     "data": {
      "text/html": [
       "<div>\n",
       "<style scoped>\n",
       "    .dataframe tbody tr th:only-of-type {\n",
       "        vertical-align: middle;\n",
       "    }\n",
       "\n",
       "    .dataframe tbody tr th {\n",
       "        vertical-align: top;\n",
       "    }\n",
       "\n",
       "    .dataframe thead th {\n",
       "        text-align: right;\n",
       "    }\n",
       "</style>\n",
       "<table border=\"1\" class=\"dataframe\">\n",
       "  <thead>\n",
       "    <tr style=\"text-align: right;\">\n",
       "      <th></th>\n",
       "      <th>country</th>\n",
       "      <th>capital</th>\n",
       "    </tr>\n",
       "  </thead>\n",
       "  <tbody>\n",
       "    <tr>\n",
       "      <th>RU</th>\n",
       "      <td>Russia</td>\n",
       "      <td>Moscow</td>\n",
       "    </tr>\n",
       "    <tr>\n",
       "      <th>IN</th>\n",
       "      <td>India</td>\n",
       "      <td>New Delhi</td>\n",
       "    </tr>\n",
       "    <tr>\n",
       "      <th>CH</th>\n",
       "      <td>China</td>\n",
       "      <td>Beijing</td>\n",
       "    </tr>\n",
       "  </tbody>\n",
       "</table>\n",
       "</div>"
      ],
      "text/plain": [
       "   country    capital\n",
       "RU  Russia     Moscow\n",
       "IN   India  New Delhi\n",
       "CH  China     Beijing"
      ]
     },
     "execution_count": 22,
     "metadata": {},
     "output_type": "execute_result"
    }
   ],
   "source": [
    "brics.loc[[\"RU\", \"IN\", \"CH\"], [\"country\", \"capital\"]]"
   ]
  },
  {
   "cell_type": "markdown",
   "id": "0cd8a5f4",
   "metadata": {},
   "source": [
    "Just selecting specific coulmns will then then display all rows. Or just use a colon."
   ]
  },
  {
   "cell_type": "code",
   "execution_count": 23,
   "id": "d459226b",
   "metadata": {},
   "outputs": [
    {
     "data": {
      "text/html": [
       "<div>\n",
       "<style scoped>\n",
       "    .dataframe tbody tr th:only-of-type {\n",
       "        vertical-align: middle;\n",
       "    }\n",
       "\n",
       "    .dataframe tbody tr th {\n",
       "        vertical-align: top;\n",
       "    }\n",
       "\n",
       "    .dataframe thead th {\n",
       "        text-align: right;\n",
       "    }\n",
       "</style>\n",
       "<table border=\"1\" class=\"dataframe\">\n",
       "  <thead>\n",
       "    <tr style=\"text-align: right;\">\n",
       "      <th></th>\n",
       "      <th>country</th>\n",
       "      <th>capital</th>\n",
       "    </tr>\n",
       "  </thead>\n",
       "  <tbody>\n",
       "    <tr>\n",
       "      <th>BR</th>\n",
       "      <td>Brazil</td>\n",
       "      <td>Brasilia</td>\n",
       "    </tr>\n",
       "    <tr>\n",
       "      <th>RU</th>\n",
       "      <td>Russia</td>\n",
       "      <td>Moscow</td>\n",
       "    </tr>\n",
       "    <tr>\n",
       "      <th>IN</th>\n",
       "      <td>India</td>\n",
       "      <td>New Delhi</td>\n",
       "    </tr>\n",
       "    <tr>\n",
       "      <th>CH</th>\n",
       "      <td>China</td>\n",
       "      <td>Beijing</td>\n",
       "    </tr>\n",
       "    <tr>\n",
       "      <th>SA</th>\n",
       "      <td>South Africa</td>\n",
       "      <td>Pretoria</td>\n",
       "    </tr>\n",
       "    <tr>\n",
       "      <th>GR</th>\n",
       "      <td>Germany</td>\n",
       "      <td>Berlin</td>\n",
       "    </tr>\n",
       "  </tbody>\n",
       "</table>\n",
       "</div>"
      ],
      "text/plain": [
       "         country    capital\n",
       "BR        Brazil   Brasilia\n",
       "RU        Russia     Moscow\n",
       "IN         India  New Delhi\n",
       "CH        China     Beijing\n",
       "SA  South Africa   Pretoria\n",
       "GR       Germany     Berlin"
      ]
     },
     "execution_count": 23,
     "metadata": {},
     "output_type": "execute_result"
    }
   ],
   "source": [
    "brics.loc[:, [\"country\", \"capital\"]]"
   ]
  },
  {
   "cell_type": "markdown",
   "id": "b91a7abc",
   "metadata": {},
   "source": [
    "Access rows with slicing"
   ]
  },
  {
   "cell_type": "code",
   "execution_count": 24,
   "id": "54a7d9f4",
   "metadata": {},
   "outputs": [
    {
     "name": "stdout",
     "output_type": "stream",
     "text": [
      "   country    capital   area  population\n",
      "BR  Brazil   Brasilia  8.516       200.4\n",
      "RU  Russia     Moscow  1.100       143.5\n",
      "IN   India  New Delhi  3.286      1252.0\n",
      "         country    capital   area  population\n",
      "IN         India  New Delhi  3.286     1252.00\n",
      "CH        China     Beijing  9.597     1357.00\n",
      "SA  South Africa   Pretoria  1.221       52.98\n",
      "GR       Germany     Berlin  4.120       84.50\n"
     ]
    }
   ],
   "source": [
    "# Print out first 3 observations\n",
    "print(brics[0:3])\n",
    "\n",
    "# Print out third, fourth and fifth observation\n",
    "print(brics[2:6])"
   ]
  },
  {
   "cell_type": "markdown",
   "id": "2efce1b1",
   "metadata": {},
   "source": [
    "### loc and iloc\n",
    "With loc and iloc you can do practically any data selection operation on DataFrames you can think of. loc is label-based, which means that you have to specify rows and columns based on their row and column labels. iloc is integer index based, so you have to specify rows and columns by their integer index like you did in the previous exercise."
   ]
  },
  {
   "cell_type": "code",
   "execution_count": 25,
   "id": "940dc14a",
   "metadata": {},
   "outputs": [
    {
     "name": "stdout",
     "output_type": "stream",
     "text": [
      "           country  drives_right  cars_per_cap\n",
      "US   United States          True           809\n",
      "AUS      Australia         False           731\n",
      "JPN          Japan         False           588\n",
      "IN           India         False            18\n",
      "RU          Russia          True           200\n",
      "MOR        Morocco          True            70\n",
      "EG           Egypt          True            45\n",
      "    country  drives_right  cars_per_cap\n",
      "JPN   Japan         False           588\n",
      "       country  drives_right  cars_per_cap\n",
      "AUS  Australia         False           731\n",
      "EG       Egypt          True            45\n",
      "     drives_right  cars_per_cap\n",
      "US           True           809\n",
      "AUS         False           731\n",
      "JPN         False           588\n",
      "IN          False            18\n",
      "RU           True           200\n",
      "MOR          True            70\n",
      "EG           True            45\n"
     ]
    }
   ],
   "source": [
    "import pandas as pd\n",
    "\n",
    "# Build cars DataFrame\n",
    "names = ['United States', 'Australia', 'Japan', 'India', 'Russia', 'Morocco', 'Egypt']\n",
    "dr =  [True, False, False, False, True, True, True]\n",
    "cpc = [809, 731, 588, 18, 200, 70, 45]\n",
    "cars_dict = { 'country':names, 'drives_right':dr, 'cars_per_cap':cpc }\n",
    "cars = pd.DataFrame(cars_dict)\n",
    "\n",
    "# Definition of row_labels\n",
    "row_labels = ['US', 'AUS', 'JPN', 'IN', 'RU', 'MOR', 'EG']\n",
    "\n",
    "# Specify row labels of cars\n",
    "cars.index = row_labels\n",
    "\n",
    "# Print cars again\n",
    "print(cars)\n",
    "\n",
    "# Print out drives_right value of Japan\n",
    "print(cars.loc[[\"JPN\"]])\n",
    "\n",
    "# Print sub-DataFrame\n",
    "print(cars.loc[['AUS', 'EG']])\n",
    "\n",
    "# Print out cars_per_cap and drives_right as DataFrame\n",
    "print(cars.loc[:, ['drives_right', 'cars_per_cap']])"
   ]
  },
  {
   "cell_type": "markdown",
   "id": "8c3109ab",
   "metadata": {},
   "source": [
    "### Filtering pandas dataframes"
   ]
  },
  {
   "cell_type": "markdown",
   "id": "1e1ef921",
   "metadata": {},
   "source": []
  },
  {
   "cell_type": "code",
   "execution_count": 26,
   "id": "3ff8435d",
   "metadata": {},
   "outputs": [
    {
     "name": "stdout",
     "output_type": "stream",
     "text": [
      "BR    8.516\n",
      "RU    1.100\n",
      "IN    3.286\n",
      "CH    9.597\n",
      "SA    1.221\n",
      "GR    4.120\n",
      "Name: area, dtype: float64\n"
     ]
    },
    {
     "data": {
      "text/html": [
       "<div>\n",
       "<style scoped>\n",
       "    .dataframe tbody tr th:only-of-type {\n",
       "        vertical-align: middle;\n",
       "    }\n",
       "\n",
       "    .dataframe tbody tr th {\n",
       "        vertical-align: top;\n",
       "    }\n",
       "\n",
       "    .dataframe thead th {\n",
       "        text-align: right;\n",
       "    }\n",
       "</style>\n",
       "<table border=\"1\" class=\"dataframe\">\n",
       "  <thead>\n",
       "    <tr style=\"text-align: right;\">\n",
       "      <th></th>\n",
       "      <th>country</th>\n",
       "      <th>capital</th>\n",
       "      <th>area</th>\n",
       "      <th>population</th>\n",
       "    </tr>\n",
       "  </thead>\n",
       "  <tbody>\n",
       "    <tr>\n",
       "      <th>BR</th>\n",
       "      <td>Brazil</td>\n",
       "      <td>Brasilia</td>\n",
       "      <td>8.516</td>\n",
       "      <td>200.40</td>\n",
       "    </tr>\n",
       "    <tr>\n",
       "      <th>RU</th>\n",
       "      <td>Russia</td>\n",
       "      <td>Moscow</td>\n",
       "      <td>1.100</td>\n",
       "      <td>143.50</td>\n",
       "    </tr>\n",
       "    <tr>\n",
       "      <th>IN</th>\n",
       "      <td>India</td>\n",
       "      <td>New Delhi</td>\n",
       "      <td>3.286</td>\n",
       "      <td>1252.00</td>\n",
       "    </tr>\n",
       "    <tr>\n",
       "      <th>CH</th>\n",
       "      <td>China</td>\n",
       "      <td>Beijing</td>\n",
       "      <td>9.597</td>\n",
       "      <td>1357.00</td>\n",
       "    </tr>\n",
       "    <tr>\n",
       "      <th>SA</th>\n",
       "      <td>South Africa</td>\n",
       "      <td>Pretoria</td>\n",
       "      <td>1.221</td>\n",
       "      <td>52.98</td>\n",
       "    </tr>\n",
       "    <tr>\n",
       "      <th>GR</th>\n",
       "      <td>Germany</td>\n",
       "      <td>Berlin</td>\n",
       "      <td>4.120</td>\n",
       "      <td>84.50</td>\n",
       "    </tr>\n",
       "  </tbody>\n",
       "</table>\n",
       "</div>"
      ],
      "text/plain": [
       "         country    capital   area  population\n",
       "BR        Brazil   Brasilia  8.516      200.40\n",
       "RU        Russia     Moscow  1.100      143.50\n",
       "IN         India  New Delhi  3.286     1252.00\n",
       "CH        China     Beijing  9.597     1357.00\n",
       "SA  South Africa   Pretoria  1.221       52.98\n",
       "GR       Germany     Berlin  4.120       84.50"
      ]
     },
     "execution_count": 26,
     "metadata": {},
     "output_type": "execute_result"
    }
   ],
   "source": [
    "import pandas as pd\n",
    "\n",
    "# Read csv with pandas\n",
    "brics = pd.read_csv(\"country_capitals.csv\", index_col = 0)\n",
    "\n",
    "# Get area with pandas series\n",
    "area = brics[\"area\"]\n",
    "# Alternate methods\n",
    "#area = brics.loc[:,\"area\"]\n",
    "#area = brics.iloc[:,2]\n",
    "print(area)\n",
    "\n",
    "brics"
   ]
  },
  {
   "cell_type": "markdown",
   "id": "404a6d68",
   "metadata": {},
   "source": [
    "We can then use a boolean operator."
   ]
  },
  {
   "cell_type": "code",
   "execution_count": 27,
   "id": "c356c101",
   "metadata": {},
   "outputs": [
    {
     "data": {
      "text/plain": [
       "BR     True\n",
       "RU    False\n",
       "IN    False\n",
       "CH     True\n",
       "SA    False\n",
       "GR    False\n",
       "Name: area, dtype: bool"
      ]
     },
     "execution_count": 27,
     "metadata": {},
     "output_type": "execute_result"
    }
   ],
   "source": [
    "brics[\"area\"] > 8"
   ]
  },
  {
   "cell_type": "markdown",
   "id": "17478215",
   "metadata": {},
   "source": [
    "Now we assign the same filter to a variable named \"is_huge\" to index the results."
   ]
  },
  {
   "cell_type": "code",
   "execution_count": 28,
   "id": "c2674872",
   "metadata": {},
   "outputs": [
    {
     "data": {
      "text/html": [
       "<div>\n",
       "<style scoped>\n",
       "    .dataframe tbody tr th:only-of-type {\n",
       "        vertical-align: middle;\n",
       "    }\n",
       "\n",
       "    .dataframe tbody tr th {\n",
       "        vertical-align: top;\n",
       "    }\n",
       "\n",
       "    .dataframe thead th {\n",
       "        text-align: right;\n",
       "    }\n",
       "</style>\n",
       "<table border=\"1\" class=\"dataframe\">\n",
       "  <thead>\n",
       "    <tr style=\"text-align: right;\">\n",
       "      <th></th>\n",
       "      <th>country</th>\n",
       "      <th>capital</th>\n",
       "      <th>area</th>\n",
       "      <th>population</th>\n",
       "    </tr>\n",
       "  </thead>\n",
       "  <tbody>\n",
       "    <tr>\n",
       "      <th>BR</th>\n",
       "      <td>Brazil</td>\n",
       "      <td>Brasilia</td>\n",
       "      <td>8.516</td>\n",
       "      <td>200.4</td>\n",
       "    </tr>\n",
       "    <tr>\n",
       "      <th>CH</th>\n",
       "      <td>China</td>\n",
       "      <td>Beijing</td>\n",
       "      <td>9.597</td>\n",
       "      <td>1357.0</td>\n",
       "    </tr>\n",
       "  </tbody>\n",
       "</table>\n",
       "</div>"
      ],
      "text/plain": [
       "   country   capital   area  population\n",
       "BR  Brazil  Brasilia  8.516       200.4\n",
       "CH  China    Beijing  9.597      1357.0"
      ]
     },
     "execution_count": 28,
     "metadata": {},
     "output_type": "execute_result"
    }
   ],
   "source": [
    "is_huge = brics[\"area\"] > 8\n",
    "brics[is_huge]"
   ]
  },
  {
   "cell_type": "markdown",
   "id": "ff403a23",
   "metadata": {},
   "source": [
    "Or we can just consolidate it to one line."
   ]
  },
  {
   "cell_type": "code",
   "execution_count": 29,
   "id": "9fcc7225",
   "metadata": {},
   "outputs": [
    {
     "data": {
      "text/html": [
       "<div>\n",
       "<style scoped>\n",
       "    .dataframe tbody tr th:only-of-type {\n",
       "        vertical-align: middle;\n",
       "    }\n",
       "\n",
       "    .dataframe tbody tr th {\n",
       "        vertical-align: top;\n",
       "    }\n",
       "\n",
       "    .dataframe thead th {\n",
       "        text-align: right;\n",
       "    }\n",
       "</style>\n",
       "<table border=\"1\" class=\"dataframe\">\n",
       "  <thead>\n",
       "    <tr style=\"text-align: right;\">\n",
       "      <th></th>\n",
       "      <th>country</th>\n",
       "      <th>capital</th>\n",
       "      <th>area</th>\n",
       "      <th>population</th>\n",
       "    </tr>\n",
       "  </thead>\n",
       "  <tbody>\n",
       "    <tr>\n",
       "      <th>BR</th>\n",
       "      <td>Brazil</td>\n",
       "      <td>Brasilia</td>\n",
       "      <td>8.516</td>\n",
       "      <td>200.4</td>\n",
       "    </tr>\n",
       "    <tr>\n",
       "      <th>CH</th>\n",
       "      <td>China</td>\n",
       "      <td>Beijing</td>\n",
       "      <td>9.597</td>\n",
       "      <td>1357.0</td>\n",
       "    </tr>\n",
       "  </tbody>\n",
       "</table>\n",
       "</div>"
      ],
      "text/plain": [
       "   country   capital   area  population\n",
       "BR  Brazil  Brasilia  8.516       200.4\n",
       "CH  China    Beijing  9.597      1357.0"
      ]
     },
     "execution_count": 29,
     "metadata": {},
     "output_type": "execute_result"
    }
   ],
   "source": [
    "brics[brics[\"area\"] > 8]"
   ]
  },
  {
   "cell_type": "markdown",
   "id": "b3fc26ed",
   "metadata": {},
   "source": [
    "Next we create aboolean series to get a subset of brics."
   ]
  },
  {
   "cell_type": "code",
   "execution_count": 30,
   "id": "a77572be",
   "metadata": {},
   "outputs": [
    {
     "data": {
      "text/html": [
       "<div>\n",
       "<style scoped>\n",
       "    .dataframe tbody tr th:only-of-type {\n",
       "        vertical-align: middle;\n",
       "    }\n",
       "\n",
       "    .dataframe tbody tr th {\n",
       "        vertical-align: top;\n",
       "    }\n",
       "\n",
       "    .dataframe thead th {\n",
       "        text-align: right;\n",
       "    }\n",
       "</style>\n",
       "<table border=\"1\" class=\"dataframe\">\n",
       "  <thead>\n",
       "    <tr style=\"text-align: right;\">\n",
       "      <th></th>\n",
       "      <th>country</th>\n",
       "      <th>capital</th>\n",
       "      <th>area</th>\n",
       "      <th>population</th>\n",
       "    </tr>\n",
       "  </thead>\n",
       "  <tbody>\n",
       "    <tr>\n",
       "      <th>BR</th>\n",
       "      <td>Brazil</td>\n",
       "      <td>Brasilia</td>\n",
       "      <td>8.516</td>\n",
       "      <td>200.4</td>\n",
       "    </tr>\n",
       "    <tr>\n",
       "      <th>CH</th>\n",
       "      <td>China</td>\n",
       "      <td>Beijing</td>\n",
       "      <td>9.597</td>\n",
       "      <td>1357.0</td>\n",
       "    </tr>\n",
       "  </tbody>\n",
       "</table>\n",
       "</div>"
      ],
      "text/plain": [
       "   country   capital   area  population\n",
       "BR  Brazil  Brasilia  8.516       200.4\n",
       "CH  China    Beijing  9.597      1357.0"
      ]
     },
     "execution_count": 30,
     "metadata": {},
     "output_type": "execute_result"
    }
   ],
   "source": [
    "brics[np.logical_and(brics[\"area\"] > 8, brics[\"area\"] < 10)]"
   ]
  },
  {
   "cell_type": "markdown",
   "id": "2c60cf98",
   "metadata": {},
   "source": [
    "Using the cars dataset, we extraccts a coumn as a series and then create a subset."
   ]
  },
  {
   "cell_type": "code",
   "execution_count": 2,
   "id": "529bf04d",
   "metadata": {},
   "outputs": [
    {
     "name": "stdout",
     "output_type": "stream",
     "text": [
      "         country  drives_right  cars_per_cap\n",
      "0  United States          True           809\n",
      "4         Russia          True           200\n",
      "5        Morocco          True            70\n",
      "6          Egypt          True            45\n"
     ]
    }
   ],
   "source": [
    "# Import cars data\n",
    "import pandas as pd\n",
    "\n",
    "# Build cars DataFrame\n",
    "names = ['United States', 'Australia', 'Japan', 'India', 'Russia', 'Morocco', 'Egypt']\n",
    "dr =  [True, False, False, False, True, True, True]\n",
    "cpc = [809, 731, 588, 18, 200, 70, 45]\n",
    "cars_dict = { 'country':names, 'drives_right':dr, 'cars_per_cap':cpc }\n",
    "cars = pd.DataFrame(cars_dict)\n",
    "\n",
    "# Extract drives_right column as Series: dr\n",
    "dr = cars['drives_right']\n",
    "\n",
    "# Use dr to subset cars: sel\n",
    "sel = cars[dr]\n",
    "\n",
    "# Print sel\n",
    "print(sel)"
   ]
  },
  {
   "cell_type": "markdown",
   "id": "f99517a5",
   "metadata": {},
   "source": [
    "We can combine the last three lines of code into one line."
   ]
  },
  {
   "cell_type": "code",
   "execution_count": 3,
   "id": "733e4d16",
   "metadata": {},
   "outputs": [
    {
     "name": "stdout",
     "output_type": "stream",
     "text": [
      "         country  drives_right  cars_per_cap\n",
      "0  United States          True           809\n",
      "4         Russia          True           200\n",
      "5        Morocco          True            70\n",
      "6          Egypt          True            45\n"
     ]
    }
   ],
   "source": [
    "# Import cars data\n",
    "import pandas as pd\n",
    "\n",
    "# Build cars DataFrame\n",
    "names = ['United States', 'Australia', 'Japan', 'India', 'Russia', 'Morocco', 'Egypt']\n",
    "dr =  [True, False, False, False, True, True, True]\n",
    "cpc = [809, 731, 588, 18, 200, 70, 45]\n",
    "cars_dict = { 'country':names, 'drives_right':dr, 'cars_per_cap':cpc }\n",
    "cars = pd.DataFrame(cars_dict)\n",
    "\n",
    "# Extract drives_right column as Series and print\n",
    "print(cars[cars['drives_right']])\n"
   ]
  },
  {
   "cell_type": "code",
   "execution_count": null,
   "id": "17bf727d",
   "metadata": {},
   "outputs": [],
   "source": []
  }
 ],
 "metadata": {
  "kernelspec": {
   "display_name": "Python 3 (ipykernel)",
   "language": "python",
   "name": "python3"
  },
  "language_info": {
   "codemirror_mode": {
    "name": "ipython",
    "version": 3
   },
   "file_extension": ".py",
   "mimetype": "text/x-python",
   "name": "python",
   "nbconvert_exporter": "python",
   "pygments_lexer": "ipython3",
   "version": "3.9.13"
  }
 },
 "nbformat": 4,
 "nbformat_minor": 5
}
